{
 "cells": [
  {
   "cell_type": "code",
   "execution_count": 1,
   "metadata": {},
   "outputs": [],
   "source": [
    "import findspark\n",
    "findspark.init()"
   ]
  },
  {
   "cell_type": "code",
   "execution_count": 2,
   "metadata": {},
   "outputs": [],
   "source": [
    "# Create SparkSession and import all required packages\n",
    "from pyspark.sql import SparkSession,types\n",
    "\n",
    "spark = SparkSession.builder.master(\"local\").appName('Json complex')\\\n",
    "                    .getOrCreate()"
   ]
  },
  {
   "cell_type": "code",
   "execution_count": 3,
   "metadata": {},
   "outputs": [],
   "source": [
    "inp=spark.read.option(\"header\",True).option(\"escape\",\"\\\"\") \\\n",
    "                                    .option(\"multiline\",\"true\") \\\n",
    "                                    .csv(\"dummy2.csv\")"
   ]
  },
  {
   "cell_type": "code",
   "execution_count": 4,
   "metadata": {},
   "outputs": [
    {
     "name": "stdout",
     "output_type": "stream",
     "text": [
      "root\n",
      " |-- PartitionDate: string (nullable = true)\n",
      " |-- Status: string (nullable = true)\n",
      " |-- request: string (nullable = true)\n",
      "\n"
     ]
    }
   ],
   "source": [
    "inp.printSchema()"
   ]
  },
  {
   "cell_type": "code",
   "execution_count": 5,
   "metadata": {},
   "outputs": [
    {
     "name": "stdout",
     "output_type": "stream",
     "text": [
      "+-------------+--------------+--------------------+\n",
      "|PartitionDate|        Status|             request|\n",
      "+-------------+--------------+--------------------+\n",
      "|   2020-06-30|Internal Error|{\"Response\":{\"Mes...|\n",
      "|   2020-06-30|       Success|{\"Response\":{\"Mes...|\n",
      "+-------------+--------------+--------------------+\n",
      "\n"
     ]
    }
   ],
   "source": [
    "inp.show()"
   ]
  },
  {
   "cell_type": "code",
   "execution_count": 7,
   "metadata": {},
   "outputs": [],
   "source": [
    "from pyspark.sql.functions import col,json_tuple,to_json,from_json"
   ]
  },
  {
   "cell_type": "markdown",
   "metadata": {},
   "source": [
    "Method 1: Using JSON tuple"
   ]
  },
  {
   "cell_type": "code",
   "execution_count": 8,
   "metadata": {},
   "outputs": [
    {
     "name": "stdout",
     "output_type": "stream",
     "text": [
      "+-------------+--------------+--------------------+--------------------+\n",
      "|PartitionDate|        Status|             request|                  c0|\n",
      "+-------------+--------------+--------------------+--------------------+\n",
      "|   2020-06-30|Internal Error|{\"Response\":{\"Mes...| {\"MessageId\":15432}|\n",
      "|   2020-06-30|       Success|{\"Response\":{\"Mes...|{\"MessageId\":1543...|\n",
      "+-------------+--------------+--------------------+--------------------+\n",
      "\n"
     ]
    }
   ],
   "source": [
    "inp.select(\"*\",json_tuple(\"request\",\"Response\")).show()"
   ]
  },
  {
   "cell_type": "code",
   "execution_count": 11,
   "metadata": {},
   "outputs": [
    {
     "name": "stdout",
     "output_type": "stream",
     "text": [
      "+-------------+--------------+---------+---------+---------+\n",
      "|PartitionDate|        Status|MessageId| Latitude|longitude|\n",
      "+-------------+--------------+---------+---------+---------+\n",
      "|   2020-06-30|Internal Error|    15432|     null|     null|\n",
      "|   2020-06-30|       Success|    15432|-176.2989|   7.3614|\n",
      "+-------------+--------------+---------+---------+---------+\n",
      "\n"
     ]
    }
   ],
   "source": [
    "inp.select(\"*\",json_tuple(\"request\",\"Response\")).drop(\"request\") \\\n",
    "    .select(\"*\",json_tuple(\"c0\",\"MessageId\",\"Latitude\",\"longitude\").alias(\"MessageId\",\"Latitude\",\"longitude\")) \\\n",
    "    .drop(\"c0\").show()"
   ]
  },
  {
   "cell_type": "markdown",
   "metadata": {},
   "source": [
    "Method 2: Using From_Json"
   ]
  },
  {
   "cell_type": "code",
   "execution_count": 13,
   "metadata": {},
   "outputs": [
    {
     "data": {
      "text/plain": [
       "['{\"Response\":{\"MessageId\" : 15432 }}',\n",
       " '{\"Response\":{\"MessageId\" : 15432,\"Latitude\":\"-176.2989\",\"longitude\":\"7.3614\" }}']"
      ]
     },
     "execution_count": 13,
     "metadata": {},
     "output_type": "execute_result"
    }
   ],
   "source": [
    "inp.select(col('request').alias(\"jsoncol\")).rdd.map(lambda x: x.jsoncol).collect()"
   ]
  },
  {
   "cell_type": "code",
   "execution_count": 14,
   "metadata": {},
   "outputs": [],
   "source": [
    "in_sch=spark.read.json(inp.select(col('request').alias(\"jsoncol\")).rdd.map(lambda x: x.jsoncol)).schema"
   ]
  },
  {
   "cell_type": "code",
   "execution_count": 15,
   "metadata": {},
   "outputs": [
    {
     "data": {
      "text/plain": [
       "StructType(List(StructField(Response,StructType(List(StructField(Latitude,StringType,true),StructField(MessageId,LongType,true),StructField(longitude,StringType,true))),true)))"
      ]
     },
     "execution_count": 15,
     "metadata": {},
     "output_type": "execute_result"
    }
   ],
   "source": [
    "in_sch"
   ]
  },
  {
   "cell_type": "code",
   "execution_count": 16,
   "metadata": {},
   "outputs": [],
   "source": [
    "inp_json=inp.select(\"*\",from_json(\"request\",in_sch).alias(\"jsonstr\"))"
   ]
  },
  {
   "cell_type": "code",
   "execution_count": 17,
   "metadata": {},
   "outputs": [
    {
     "name": "stdout",
     "output_type": "stream",
     "text": [
      "root\n",
      " |-- PartitionDate: string (nullable = true)\n",
      " |-- Status: string (nullable = true)\n",
      " |-- request: string (nullable = true)\n",
      " |-- jsonstr: struct (nullable = true)\n",
      " |    |-- Response: struct (nullable = true)\n",
      " |    |    |-- Latitude: string (nullable = true)\n",
      " |    |    |-- MessageId: long (nullable = true)\n",
      " |    |    |-- longitude: string (nullable = true)\n",
      "\n"
     ]
    }
   ],
   "source": [
    "inp_json.printSchema()"
   ]
  },
  {
   "cell_type": "code",
   "execution_count": 19,
   "metadata": {},
   "outputs": [
    {
     "data": {
      "text/plain": [
       "'jsonstr.Response.*'"
      ]
     },
     "execution_count": 19,
     "metadata": {},
     "output_type": "execute_result"
    }
   ],
   "source": [
    "col1=inp_json.schema['jsonstr'].dataType.names[0]\n",
    "chk=\"jsonstr.\"+col1+\".*\"\n",
    "chk"
   ]
  },
  {
   "cell_type": "code",
   "execution_count": 20,
   "metadata": {},
   "outputs": [
    {
     "name": "stdout",
     "output_type": "stream",
     "text": [
      "+-------------+--------------+---------+---------+---------+\n",
      "|PartitionDate|        Status| Latitude|MessageId|longitude|\n",
      "+-------------+--------------+---------+---------+---------+\n",
      "|   2020-06-30|Internal Error|     null|    15432|     null|\n",
      "|   2020-06-30|       Success|-176.2989|    15432|   7.3614|\n",
      "+-------------+--------------+---------+---------+---------+\n",
      "\n"
     ]
    }
   ],
   "source": [
    "inp_json.select(\"*\",col(chk)).drop(\"request\",\"jsonstr\").show()"
   ]
  },
  {
   "cell_type": "markdown",
   "metadata": {},
   "source": [
    "Usage of to_json:"
   ]
  },
  {
   "cell_type": "code",
   "execution_count": 21,
   "metadata": {},
   "outputs": [
    {
     "name": "stdout",
     "output_type": "stream",
     "text": [
      "+-----------------------+\n",
      "|structstojson(Response)|\n",
      "+-----------------------+\n",
      "|    {\"MessageId\":15432}|\n",
      "|   {\"Latitude\":\"-176...|\n",
      "+-----------------------+\n",
      "\n"
     ]
    }
   ],
   "source": [
    "inp_json.select(col(\"jsonstr.*\")).select(to_json(col(\"Response\"))).show()"
   ]
  },
  {
   "cell_type": "code",
   "execution_count": null,
   "metadata": {},
   "outputs": [],
   "source": []
  }
 ],
 "metadata": {
  "kernelspec": {
   "display_name": "Python 3",
   "language": "python",
   "name": "python3"
  },
  "language_info": {
   "codemirror_mode": {
    "name": "ipython",
    "version": 3
   },
   "file_extension": ".py",
   "mimetype": "text/x-python",
   "name": "python",
   "nbconvert_exporter": "python",
   "pygments_lexer": "ipython3",
   "version": "3.7.4"
  }
 },
 "nbformat": 4,
 "nbformat_minor": 4
}
