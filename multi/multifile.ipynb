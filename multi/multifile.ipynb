{
 "cells": [
  {
   "cell_type": "code",
   "execution_count": 1,
   "metadata": {},
   "outputs": [],
   "source": [
    "import findspark\n",
    "findspark.init()"
   ]
  },
  {
   "cell_type": "code",
   "execution_count": 2,
   "metadata": {},
   "outputs": [],
   "source": [
    "from pyspark.sql import SparkSession\n",
    "\n",
    "spark=SparkSession.builder.appName(\"Multi file\").getOrCreate()"
   ]
  },
  {
   "cell_type": "code",
   "execution_count": 5,
   "metadata": {},
   "outputs": [],
   "source": [
    "df=spark.read.option(\"header\",True).csv(\"Data*/file*.csv\")"
   ]
  },
  {
   "cell_type": "code",
   "execution_count": 6,
   "metadata": {},
   "outputs": [
    {
     "name": "stdout",
     "output_type": "stream",
     "text": [
      "+----------------+----+---------+----+\n",
      "|            Name| age|education|Year|\n",
      "+----------------+----+---------+----+\n",
      "|          Dravid|  44|     MBBS|2005|\n",
      "|         Ganguly|  45|      BDS|2008|\n",
      "|           Gayle|  40|      BBA|2003|\n",
      "|           Rahul|  24|     B.Sc|2012|\n",
      "|           Dhoni|  38|      MBA|2005|\n",
      "|           Rinku|  26|     B.Ed|2016|\n",
      "|           Rohit|  32|       MS|2010|\n",
      "|          Pollar|  36|     M.Sc|2010|\n",
      "|           Kolhi|  29|       ME|2017|\n",
      "|          Hussey|  43|     Ph.d|2013|\n",
      "|          Parker|  23|       BE|2019|\n",
      "|           Peter|  29|       ME|2013|\n",
      "|            Mike|  28|       BE|2014|\n",
      "|            Jack|  43|      MBA|2000|\n",
      "|         age:Int|null|     null|null|\n",
      "|education:String|null|     null|null|\n",
      "|        Year:Int|null|     null|null|\n",
      "+----------------+----+---------+----+\n",
      "\n"
     ]
    }
   ],
   "source": [
    "df.show()"
   ]
  },
  {
   "cell_type": "markdown",
   "metadata": {},
   "source": [
    "Method 1 - List of input path"
   ]
  },
  {
   "cell_type": "code",
   "execution_count": null,
   "metadata": {},
   "outputs": [],
   "source": [
    "[\"Data1/*.csv\",\"Data2/*.csv\",\"Data3/*.csv\"]"
   ]
  },
  {
   "cell_type": "code",
   "execution_count": 7,
   "metadata": {},
   "outputs": [],
   "source": [
    "in_df=spark.read.option(\"header\",True).csv([\"Data1/*.csv\",\"Data2/*.csv\",\"Data3/*.csv\"])"
   ]
  },
  {
   "cell_type": "code",
   "execution_count": 8,
   "metadata": {},
   "outputs": [
    {
     "name": "stdout",
     "output_type": "stream",
     "text": [
      "+------+---+---------+----+\n",
      "|  Name|age|education|Year|\n",
      "+------+---+---------+----+\n",
      "| Gayle| 40|      BBA|2003|\n",
      "| Rahul| 24|     B.Sc|2012|\n",
      "| Dhoni| 38|      MBA|2005|\n",
      "| Rinku| 26|     B.Ed|2016|\n",
      "| Rohit| 32|       MS|2010|\n",
      "|Pollar| 36|     M.Sc|2010|\n",
      "| Kolhi| 29|       ME|2017|\n",
      "|Hussey| 43|     Ph.d|2013|\n",
      "|Parker| 23|       BE|2019|\n",
      "| Peter| 29|       ME|2013|\n",
      "|  Mike| 28|       BE|2014|\n",
      "|  Jack| 43|      MBA|2000|\n",
      "+------+---+---------+----+\n",
      "\n"
     ]
    }
   ],
   "source": [
    "in_df.show()"
   ]
  },
  {
   "cell_type": "markdown",
   "metadata": {},
   "source": [
    "Method 2 - Using Regex pattern"
   ]
  },
  {
   "cell_type": "code",
   "execution_count": 9,
   "metadata": {},
   "outputs": [],
   "source": [
    "in_df=spark.read.option(\"header\",True).csv(\"Data[1-3]*/*.csv\")"
   ]
  },
  {
   "cell_type": "code",
   "execution_count": 10,
   "metadata": {},
   "outputs": [
    {
     "name": "stdout",
     "output_type": "stream",
     "text": [
      "+------+---+---------+----+\n",
      "|  Name|age|education|Year|\n",
      "+------+---+---------+----+\n",
      "| Gayle| 40|      BBA|2003|\n",
      "| Rahul| 24|     B.Sc|2012|\n",
      "| Dhoni| 38|      MBA|2005|\n",
      "| Rinku| 26|     B.Ed|2016|\n",
      "| Rohit| 32|       MS|2010|\n",
      "|Pollar| 36|     M.Sc|2010|\n",
      "| Kolhi| 29|       ME|2017|\n",
      "|Hussey| 43|     Ph.d|2013|\n",
      "|Parker| 23|       BE|2019|\n",
      "| Peter| 29|       ME|2013|\n",
      "|  Mike| 28|       BE|2014|\n",
      "|  Jack| 43|      MBA|2000|\n",
      "+------+---+---------+----+\n",
      "\n"
     ]
    }
   ],
   "source": [
    "in_df.show()"
   ]
  },
  {
   "cell_type": "markdown",
   "metadata": {},
   "source": [
    "Method 3 - curly braces with selected items"
   ]
  },
  {
   "cell_type": "code",
   "execution_count": 13,
   "metadata": {},
   "outputs": [],
   "source": [
    "in_df=spark.read.option(\"header\",True).csv(\"Data{1,2,4}*/*.csv\")"
   ]
  },
  {
   "cell_type": "code",
   "execution_count": 14,
   "metadata": {},
   "outputs": [
    {
     "name": "stdout",
     "output_type": "stream",
     "text": [
      "+-------+---+---------+----+\n",
      "|   Name|age|education|Year|\n",
      "+-------+---+---------+----+\n",
      "| Dravid| 44|     MBBS|2005|\n",
      "|Ganguly| 45|      BDS|2008|\n",
      "|  Gayle| 40|      BBA|2003|\n",
      "|  Rahul| 24|     B.Sc|2012|\n",
      "|  Dhoni| 38|      MBA|2005|\n",
      "|  Rinku| 26|     B.Ed|2016|\n",
      "| Parker| 23|       BE|2019|\n",
      "|  Peter| 29|       ME|2013|\n",
      "|   Mike| 28|       BE|2014|\n",
      "|   Jack| 43|      MBA|2000|\n",
      "+-------+---+---------+----+\n",
      "\n"
     ]
    }
   ],
   "source": [
    "in_df.show()"
   ]
  },
  {
   "cell_type": "code",
   "execution_count": null,
   "metadata": {},
   "outputs": [],
   "source": []
  }
 ],
 "metadata": {
  "kernelspec": {
   "display_name": "Python 3",
   "language": "python",
   "name": "python3"
  },
  "language_info": {
   "codemirror_mode": {
    "name": "ipython",
    "version": 3
   },
   "file_extension": ".py",
   "mimetype": "text/x-python",
   "name": "python",
   "nbconvert_exporter": "python",
   "pygments_lexer": "ipython3",
   "version": "3.7.4"
  }
 },
 "nbformat": 4,
 "nbformat_minor": 4
}
